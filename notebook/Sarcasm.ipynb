{
 "cells": [
  {
   "cell_type": "raw",
   "metadata": {
    "collapsed": false
   },
   "source": [
    "with open(\"bamman_redux_ids.csv\") as fid:\n",
    "    with open(\"bamman_redux_ids.txt\",\"w\") as fod:\n",
    "        for l in fid:\n",
    "            print l\n",
    "            cl  = l.rstrip().lstrip()\n",
    "            fod.write(l.replace(\",\",\"\\t\").replace(\"\\r\",\"\"))"
   ]
  },
  {
   "cell_type": "code",
   "execution_count": 4,
   "metadata": {
    "collapsed": false
   },
   "outputs": [
    {
     "name": "stdout",
     "output_type": "stream",
     "text": [
      "/Users/samir/Dev/projects/CUE-CNN\n"
     ]
    }
   ],
   "source": [
    "cd .."
   ]
  },
  {
   "cell_type": "code",
   "execution_count": 5,
   "metadata": {
    "collapsed": false
   },
   "outputs": [
    {
     "name": "stdout",
     "output_type": "stream",
     "text": [
      "\u001b[1m\u001b[36mDATA\u001b[m\u001b[m/                   bamman_redux_idx.txt    \u001b[1m\u001b[36mnotebook\u001b[m\u001b[m/               \u001b[31msarcasm_cnn.sh\u001b[m\u001b[m*\r\n",
      "README.md               \u001b[1m\u001b[36mcode\u001b[m\u001b[m/                   \u001b[31mold_crossfolds.sh\u001b[m\u001b[m*      usr2vec_400_master.txt\r\n",
      "bamman_redux_ids.csv    \u001b[31mcrossfolds.sh\u001b[m\u001b[m*          \u001b[31monefold.sh\u001b[m\u001b[m*\r\n",
      "bamman_redux_ids.txt    holla.txt               \u001b[31mprepare.sh\u001b[m\u001b[m*\r\n"
     ]
    }
   ],
   "source": [
    "ls "
   ]
  },
  {
   "cell_type": "code",
   "execution_count": 7,
   "metadata": {
    "collapsed": false
   },
   "outputs": [
    {
     "name": "stdout",
     "output_type": "stream",
     "text": [
      "The autoreload extension is already loaded. To reload it, use:\n",
      "  %reload_ext autoreload\n"
     ]
    }
   ],
   "source": [
    "%matplotlib inline\n",
    "%load_ext autoreload\n",
    "%autoreload 2"
   ]
  },
  {
   "cell_type": "markdown",
   "metadata": {},
   "source": [
    "#####1. Get Utils"
   ]
  },
  {
   "cell_type": "raw",
   "metadata": {
    "collapsed": false
   },
   "source": [
    "%%bash\n",
    "#get my utils and unpack it to \"code\" folder\n",
    "wget https://github.com/samiroid/utils/archive/master.zip\n",
    "unzip master.zip\n",
    "mv utils-master/my_utils/ code/my_utils\n",
    "rm -rf utils-master master.zip"
   ]
  },
  {
   "cell_type": "markdown",
   "metadata": {},
   "source": [
    "#####3. Get the data"
   ]
  },
  {
   "cell_type": "raw",
   "metadata": {
    "collapsed": false
   },
   "source": [
    "%%bash\n",
    "python code/my_utils/download_tweets.py bamman_redux_ids.txt > DATA/txt/bamman_redux.txt"
   ]
  },
  {
   "cell_type": "markdown",
   "metadata": {},
   "source": [
    "#####2. Get Word Embeddings and User Embeddings"
   ]
  },
  {
   "cell_type": "code",
   "execution_count": 12,
   "metadata": {
    "collapsed": false
   },
   "outputs": [
    {
     "name": "stdout",
     "output_type": "stream",
     "text": [
      "word embeddings:  /Users/samir/Dev/resources/embeddings/twitter/sarcasm/embeddings_400.txt\n",
      "user embeddings:  /Users/samir/Dev/resources/embeddings/twitter/sarcasm/usr2vec_400_master_2.txt\n"
     ]
    }
   ],
   "source": [
    "%%bash\n",
    "#path to word embeddings\n",
    "word_embeddings=\"/Users/samir/Dev/resources/embeddings/twitter/sarcasm/embeddings_400.txt\"\n",
    "#path to user embeddings\n",
    "user_embeddings=\"/Users/samir/Dev/resources/embeddings/twitter/sarcasm/usr2vec_400_master_2.txt\"\n",
    "rm -rf DATA || true\n",
    "mkdir DATA\n",
    "mkdir DATA/txt\n",
    "mkdir DATA/embeddings\n",
    "echo \"word embeddings: \" ${word_embeddings}\n",
    "echo \"user embeddings: \" ${user_embeddings} \n",
    "ln -s ${word_embeddings} DATA/embeddings/words.txt\n",
    "ln -s ${user_embeddings} DATA/embeddings/usr2vec.txt\n",
    "#copy training data to the appropriate folder\n",
    "cp bamman_redux.txt DATA/txt/bamman_redux.txt"
   ]
  },
  {
   "cell_type": "markdown",
   "metadata": {},
   "source": [
    "#####4. Extract Vocabulary and Word Embeddings"
   ]
  },
  {
   "cell_type": "code",
   "execution_count": 25,
   "metadata": {
    "collapsed": false
   },
   "outputs": [
    {
     "name": "stdout",
     "output_type": "stream",
     "text": [
      "Preprocess Data\n",
      "> /Users/samir/Dev/projects/CUE-CNN/aux/preprocess_bamman.py(54)<module>()\n",
      "-> user, label, m = st[1:3]\n",
      "(Pdb) \n",
      "\u001b[0;31m---------------------------------------------------------------------------\u001b[0m\n",
      "\u001b[0;31mBdbQuit\u001b[0m                                   Traceback (most recent call last)\n",
      "\u001b[0;32maux/preprocess_bamman.py\u001b[0m in \u001b[0;36m<module>\u001b[0;34m()\u001b[0m\n",
      "\u001b[1;32m     52\u001b[0m                 \u001b[0midz\u001b[0m\u001b[0;34m.\u001b[0m\u001b[0mappend\u001b[0m\u001b[0;34m(\u001b[0m\u001b[0mtweet_id\u001b[0m\u001b[0;34m)\u001b[0m\u001b[0;34m\u001b[0m\u001b[0m\n",
      "\u001b[1;32m     53\u001b[0m                 \u001b[0mset_trace\u001b[0m\u001b[0;34m(\u001b[0m\u001b[0;34m)\u001b[0m\u001b[0;34m\u001b[0m\u001b[0m\n",
      "\u001b[0;32m---> 54\u001b[0;31m                 \u001b[0muser\u001b[0m\u001b[0;34m,\u001b[0m \u001b[0mlabel\u001b[0m\u001b[0;34m,\u001b[0m \u001b[0mm\u001b[0m \u001b[0;34m=\u001b[0m \u001b[0mst\u001b[0m\u001b[0;34m[\u001b[0m\u001b[0;36m1\u001b[0m\u001b[0;34m:\u001b[0m\u001b[0;36m3\u001b[0m\u001b[0;34m]\u001b[0m\u001b[0;34m\u001b[0m\u001b[0m\n",
      "\u001b[0m\u001b[1;32m     55\u001b[0m \u001b[0;34m\u001b[0m\u001b[0m\n",
      "\u001b[1;32m     56\u001b[0m                 \u001b[0;32mprint\u001b[0m \u001b[0muser\u001b[0m\u001b[0;34m,\u001b[0m \u001b[0mlabel\u001b[0m\u001b[0;34m,\u001b[0m \u001b[0mm\u001b[0m\u001b[0;34m\u001b[0m\u001b[0m\n",
      "\n",
      "\u001b[0;32maux/preprocess_bamman.py\u001b[0m in \u001b[0;36m<module>\u001b[0;34m()\u001b[0m\n",
      "\u001b[1;32m     52\u001b[0m                 \u001b[0midz\u001b[0m\u001b[0;34m.\u001b[0m\u001b[0mappend\u001b[0m\u001b[0;34m(\u001b[0m\u001b[0mtweet_id\u001b[0m\u001b[0;34m)\u001b[0m\u001b[0;34m\u001b[0m\u001b[0m\n",
      "\u001b[1;32m     53\u001b[0m                 \u001b[0mset_trace\u001b[0m\u001b[0;34m(\u001b[0m\u001b[0;34m)\u001b[0m\u001b[0;34m\u001b[0m\u001b[0m\n",
      "\u001b[0;32m---> 54\u001b[0;31m                 \u001b[0muser\u001b[0m\u001b[0;34m,\u001b[0m \u001b[0mlabel\u001b[0m\u001b[0;34m,\u001b[0m \u001b[0mm\u001b[0m \u001b[0;34m=\u001b[0m \u001b[0mst\u001b[0m\u001b[0;34m[\u001b[0m\u001b[0;36m1\u001b[0m\u001b[0;34m:\u001b[0m\u001b[0;36m3\u001b[0m\u001b[0;34m]\u001b[0m\u001b[0;34m\u001b[0m\u001b[0m\n",
      "\u001b[0m\u001b[1;32m     55\u001b[0m \u001b[0;34m\u001b[0m\u001b[0m\n",
      "\u001b[1;32m     56\u001b[0m                 \u001b[0;32mprint\u001b[0m \u001b[0muser\u001b[0m\u001b[0;34m,\u001b[0m \u001b[0mlabel\u001b[0m\u001b[0;34m,\u001b[0m \u001b[0mm\u001b[0m\u001b[0;34m\u001b[0m\u001b[0m\n",
      "\n",
      "\u001b[0;32m/Users/samir/anaconda/lib/python2.7/bdb.pyc\u001b[0m in \u001b[0;36mtrace_dispatch\u001b[0;34m(self, frame, event, arg)\u001b[0m\n",
      "\u001b[1;32m     47\u001b[0m             \u001b[0;32mreturn\u001b[0m \u001b[0;31m# None\u001b[0m\u001b[0;34m\u001b[0m\u001b[0m\n",
      "\u001b[1;32m     48\u001b[0m         \u001b[0;32mif\u001b[0m \u001b[0mevent\u001b[0m \u001b[0;34m==\u001b[0m \u001b[0;34m'line'\u001b[0m\u001b[0;34m:\u001b[0m\u001b[0;34m\u001b[0m\u001b[0m\n",
      "\u001b[0;32m---> 49\u001b[0;31m             \u001b[0;32mreturn\u001b[0m \u001b[0mself\u001b[0m\u001b[0;34m.\u001b[0m\u001b[0mdispatch_line\u001b[0m\u001b[0;34m(\u001b[0m\u001b[0mframe\u001b[0m\u001b[0;34m)\u001b[0m\u001b[0;34m\u001b[0m\u001b[0m\n",
      "\u001b[0m\u001b[1;32m     50\u001b[0m         \u001b[0;32mif\u001b[0m \u001b[0mevent\u001b[0m \u001b[0;34m==\u001b[0m \u001b[0;34m'call'\u001b[0m\u001b[0;34m:\u001b[0m\u001b[0;34m\u001b[0m\u001b[0m\n",
      "\u001b[1;32m     51\u001b[0m             \u001b[0;32mreturn\u001b[0m \u001b[0mself\u001b[0m\u001b[0;34m.\u001b[0m\u001b[0mdispatch_call\u001b[0m\u001b[0;34m(\u001b[0m\u001b[0mframe\u001b[0m\u001b[0;34m,\u001b[0m \u001b[0marg\u001b[0m\u001b[0;34m)\u001b[0m\u001b[0;34m\u001b[0m\u001b[0m\n",
      "\n",
      "\u001b[0;32m/Users/samir/anaconda/lib/python2.7/bdb.pyc\u001b[0m in \u001b[0;36mdispatch_line\u001b[0;34m(self, frame)\u001b[0m\n",
      "\u001b[1;32m     66\u001b[0m         \u001b[0;32mif\u001b[0m \u001b[0mself\u001b[0m\u001b[0;34m.\u001b[0m\u001b[0mstop_here\u001b[0m\u001b[0;34m(\u001b[0m\u001b[0mframe\u001b[0m\u001b[0;34m)\u001b[0m \u001b[0;32mor\u001b[0m \u001b[0mself\u001b[0m\u001b[0;34m.\u001b[0m\u001b[0mbreak_here\u001b[0m\u001b[0;34m(\u001b[0m\u001b[0mframe\u001b[0m\u001b[0;34m)\u001b[0m\u001b[0;34m:\u001b[0m\u001b[0;34m\u001b[0m\u001b[0m\n",
      "\u001b[1;32m     67\u001b[0m             \u001b[0mself\u001b[0m\u001b[0;34m.\u001b[0m\u001b[0muser_line\u001b[0m\u001b[0;34m(\u001b[0m\u001b[0mframe\u001b[0m\u001b[0;34m)\u001b[0m\u001b[0;34m\u001b[0m\u001b[0m\n",
      "\u001b[0;32m---> 68\u001b[0;31m             \u001b[0;32mif\u001b[0m \u001b[0mself\u001b[0m\u001b[0;34m.\u001b[0m\u001b[0mquitting\u001b[0m\u001b[0;34m:\u001b[0m \u001b[0;32mraise\u001b[0m \u001b[0mBdbQuit\u001b[0m\u001b[0;34m\u001b[0m\u001b[0m\n",
      "\u001b[0m\u001b[1;32m     69\u001b[0m         \u001b[0;32mreturn\u001b[0m \u001b[0mself\u001b[0m\u001b[0;34m.\u001b[0m\u001b[0mtrace_dispatch\u001b[0m\u001b[0;34m\u001b[0m\u001b[0m\n",
      "\u001b[1;32m     70\u001b[0m \u001b[0;34m\u001b[0m\u001b[0m\n",
      "\n",
      "\u001b[0;31mBdbQuit\u001b[0m: \n"
     ]
    }
   ],
   "source": [
    "%%bash\n",
    "EMB_PATH_IN=\"DATA/embeddings/words.txt\"\n",
    "EMB_PATH_OUT=\"DATA/embeddings/filtered_embs.txt\"\n",
    "TXT_IN=\"DATA/txt/bamman_redux.txt\"\n",
    "TXT_OUT=\"DATA/txt/bamman_clean.txt\"\n",
    "python aux/preprocess_bamman.py -input   ${TXT_IN} \\\n",
    "                                -out_txt ${TXT_OUT} \\\n",
    "                                -word_vectors ${EMB_PATH_IN} \\\n",
    "                                -out_vectors  ${EMB_PATH_OUT} \\"
   ]
  },
  {
   "cell_type": "code",
   "execution_count": 28,
   "metadata": {
    "collapsed": false
   },
   "outputs": [
    {
     "name": "stdout",
     "output_type": "stream",
     "text": [
      "453597158567329793\tDamonLThomas\t1\t@lexisb never knew that all men of all ethnicities made the same amount. #sarcasm\n",
      "347794782363451392\tMr_Nath18\t1\t@daleansell17 LOL yeah coz I've seen it 😕 #sarcastic\n",
      "424063942164348928\tVato3forlife\t0\t@NonoB03 lmao hahah cochino she was a perfect Christain girl now you've turned her into a catholic nun! Hahahhahhaha orale ! Hahahha\n",
      "429350784850223104\tbesta90\t1\t@richard_neary hope so. Class player. #sarcasm\n",
      "522397523705872384\tUlsterBank_Help\t0\t@jamiehynds Hi, how many days were you advised the payment can take to credit? Can you confirm the fee you were charged? AS\n",
      "514625637974163456\tWynRichards\t0\t@vanbadham Arguably, it could be worse IMO\n",
      "481992089815625729\tdimples_misfit\t0\t“@ChristopherSoto: 😴- dear bae, you are bae, there's no other bae, bae on my mind” I'm glad to know 😂🙌\n",
      "532926621951721473\tUlsterBank_Help\t0\t@crustycraic I am sorry you have not yet received this. They need to help on the same number, as we have no access to the systems sadly. JP\n",
      "429681671685033985\tsloweddown\t0\t@JuliaHB1 Petitioning David Camaron To Recruit and pay for more Admiral Nurses . Petition by Jan Inman Clacton United Kingdom\n",
      "482530575748984832\tAdamEllis22\t0\t@benjaminryan too right! Just hope we received a just fee for him. As for the Bees- Alan Judge & Odubajo will be a tasty duo of wingers!\n",
      "\n",
      "\n",
      "453597158567329793\tDamonLThomas\t1\t@user never knew that all men of all ethnicities made the same amount .\n",
      "347794782363451392\tMr_Nath18\t1\t@user lol yeah coz ive seen it 😕\n",
      "424063942164348928\tVato3forlife\t0\t@user lmao hahah cochino she was a perfect christain girl now youve turned her into a catholic nun ! hahahhahhaha orale ! hahahha\n",
      "429350784850223104\tbesta90\t1\t@user hope so . class player .\n",
      "522397523705872384\tUlsterBank_Help\t0\t@user hi , how many days were you advised the payment can take to credit ? can you confirm the fee you were charged ? as\n",
      "514625637974163456\tWynRichards\t0\t@user arguably , it could be worse imo\n",
      "481992089815625729\tdimples_misfit\t0\t@user 😴 - dear bae , you are bae , theres no other bae , bae on my mind ” im glad to know 😂 🙌\n",
      "532926621951721473\tUlsterBank_Help\t0\t@user i am sorry you have not yet received this . they need to help on the same number , as we have no access to the systems sadly . jp\n",
      "429681671685033985\tsloweddown\t0\t@user petitioning david camaron to recruit and pay for more admiral nurses . petition by jan inman clacton united kingdom\n",
      "482530575748984832\tAdamEllis22\t0\t@user too right ! just hope we received a just fee for him . as for the bees - alan judge & odubajo will be a tasty duo of wingers !\n"
     ]
    }
   ],
   "source": [
    "%%bash\n",
    "head DATA/txt/bamman_redux.txt\n",
    "echo \"\"\n",
    "echo \"\"\n",
    "head DATA/txt/bamman_clean.txt"
   ]
  },
  {
   "cell_type": "markdown",
   "metadata": {},
   "source": [
    "#####5. Run Experiment"
   ]
  },
  {
   "cell_type": "code",
   "execution_count": null,
   "metadata": {
    "collapsed": true
   },
   "outputs": [],
   "source": [
    "%%bash\n",
    "echo \"CROSSFOLD VALIDATION\"\n",
    "echo \"Fold: 0\"\n",
    "./onefold.sh 0\n",
    "echo \"Fold: 1\"\n",
    "./onefold.sh 1\n",
    "echo\"\"\n",
    "echo \"Fold: 2\"\n",
    "./onefold.sh 2\n",
    "echo\"\"\n",
    "echo \"Fold: 3\"\n",
    "./onefold.sh 3\n",
    "echo\"\"\n",
    "echo \"Fold: 4\"\n",
    "./onefold.sh 4\n",
    "echo\"\"\n",
    "echo \"Fold: 5\"\n",
    "./onefold.sh 5\n",
    "echo\"\"\n",
    "echo \"Fold: 6\"\n",
    "./onefold.sh 6\n",
    "echo\"\"\n",
    "echo \"Fold: 7\"\n",
    "./onefold.sh 7\n",
    "echo\"\"\n",
    "echo \"Fold: 8\"\n",
    "./onefold.sh 8\n",
    "echo\"\"\n",
    "echo \"Fold: 9\"\n",
    "./onefold.sh 9\n",
    "echo\"\""
   ]
  },
  {
   "cell_type": "code",
   "execution_count": null,
   "metadata": {
    "collapsed": true
   },
   "outputs": [],
   "source": []
  }
 ],
 "metadata": {
  "kernelspec": {
   "display_name": "Python 2",
   "language": "python",
   "name": "python2"
  },
  "language_info": {
   "codemirror_mode": {
    "name": "ipython",
    "version": 2
   },
   "file_extension": ".py",
   "mimetype": "text/x-python",
   "name": "python",
   "nbconvert_exporter": "python",
   "pygments_lexer": "ipython2",
   "version": "2.7.11"
  }
 },
 "nbformat": 4,
 "nbformat_minor": 0
}
