{
 "cells": [
  {
   "cell_type": "raw",
   "metadata": {
    "collapsed": false
   },
   "source": [
    "with open(\"bamman_redux_ids.csv\") as fid:\n",
    "    with open(\"bamman_redux_ids.txt\",\"w\") as fod:\n",
    "        for l in fid:\n",
    "            print l\n",
    "            cl  = l.rstrip().lstrip()\n",
    "            fod.write(l.replace(\",\",\"\\t\").replace(\"\\r\",\"\"))"
   ]
  },
  {
   "cell_type": "code",
   "execution_count": 1,
   "metadata": {
    "collapsed": false
   },
   "outputs": [
    {
     "name": "stdout",
     "output_type": "stream",
     "text": [
      "/Users/samir/Dev/projects/CUE-CNN\n"
     ]
    }
   ],
   "source": [
    "cd .."
   ]
  },
  {
   "cell_type": "code",
   "execution_count": 2,
   "metadata": {
    "collapsed": false
   },
   "outputs": [
    {
     "name": "stdout",
     "output_type": "stream",
     "text": [
      "\u001b[31m__init__.py\u001b[m\u001b[m*         \u001b[31mdownload_tweets.py\u001b[m\u001b[m*  \u001b[31mevaluation.py\u001b[m\u001b[m*       \u001b[31mtrain_embeddings.py\u001b[m\u001b[m* twokenize.pyc\r\n",
      "__init__.pyc         \u001b[31membeddings.py\u001b[m\u001b[m*       \u001b[31mgensimer.py\u001b[m\u001b[m*         \u001b[1m\u001b[36mtweetokenize\u001b[m\u001b[m/\r\n",
      "\u001b[31mcheck_gpu.py\u001b[m\u001b[m*        embeddings.pyc       \u001b[31mprep_corpus.py\u001b[m\u001b[m*      \u001b[31mtwokenize.py\u001b[m\u001b[m*\r\n"
     ]
    }
   ],
   "source": [
    "ls code/my_utils/"
   ]
  },
  {
   "cell_type": "code",
   "execution_count": 3,
   "metadata": {
    "collapsed": true
   },
   "outputs": [],
   "source": [
    "%matplotlib inline\n",
    "%load_ext autoreload\n",
    "%autoreload 2"
   ]
  },
  {
   "cell_type": "markdown",
   "metadata": {},
   "source": [
    "#####1. Get Utils"
   ]
  },
  {
   "cell_type": "code",
   "execution_count": 19,
   "metadata": {
    "collapsed": false
   },
   "outputs": [],
   "source": [
    "%%bash\n",
    "#get my utils and unpack it to \"code\" folder\n",
    "#wget https://github.com/samiroid/utils/archive/master.zip\n",
    "#unzip master.zip\n",
    "#mv utils-master/my_utils/ code/my_utils\n",
    "#rm -rf utils-master master.zip"
   ]
  },
  {
   "cell_type": "markdown",
   "metadata": {},
   "source": [
    "#####2. Get Word Embeddings and User Embeddings"
   ]
  },
  {
   "cell_type": "raw",
   "metadata": {
    "collapsed": false
   },
   "source": [
    "%%bash\n",
    "#path to word embeddings\n",
    "word_embeddings=\"/Users/samir/Dev/resources/embeddings/twitter/sarcasm/embeddings_400.txt\"\n",
    "#path to user embeddings\n",
    "user_embeddings=\"/Users/samir/Dev/resources/embeddings/twitter/sarcasm/usr2vec_400_master_2.txt\"\n",
    "rm -rf DATA || true\n",
    "mkdir DATA\n",
    "mkdir DATA/txt\n",
    "mkdir DATA/embeddings\n",
    "echo \"word embeddings: \" ${word_embeddings}\n",
    "echo \"user embeddings: \" ${user_embeddings} \n",
    "ln -s ${word_embeddings} DATA/embeddings/words.txt\n",
    "ln -s ${user_embeddings} DATA/embeddings/usr2vec.txt\n",
    "\n"
   ]
  },
  {
   "cell_type": "markdown",
   "metadata": {},
   "source": [
    "#####3. Get the data"
   ]
  },
  {
   "cell_type": "code",
   "execution_count": null,
   "metadata": {
    "collapsed": false
   },
   "outputs": [],
   "source": [
    "%%bash\n",
    "python code/my_utils/download_tweets.py bamman_redux_ids.txt > DATA/txt/bamman_redux.txt"
   ]
  },
  {
   "cell_type": "markdown",
   "metadata": {},
   "source": [
    "#####4. Extract Vocabulary and Word Embeddings"
   ]
  },
  {
   "cell_type": "code",
   "execution_count": 6,
   "metadata": {
    "collapsed": false
   },
   "outputs": [
    {
     "name": "stdout",
     "output_type": "stream",
     "text": [
      "Preprocess Data\n",
      "Load Word Embeddings\n",
      "4225/4316 (97.89 %) words in vocabulary found no embedding\n",
      "4225/4316 (97.89 %) words in vocabulary found no embedding\n"
     ]
    }
   ],
   "source": [
    "%%bash\n",
    "python code/extract.py"
   ]
  },
  {
   "cell_type": "markdown",
   "metadata": {},
   "source": [
    "#####5. Run Experiment"
   ]
  },
  {
   "cell_type": "code",
   "execution_count": null,
   "metadata": {
    "collapsed": true
   },
   "outputs": [],
   "source": []
  },
  {
   "cell_type": "code",
   "execution_count": 7,
   "metadata": {
    "collapsed": false
   },
   "outputs": [
    {
     "name": "stderr",
     "output_type": "stream",
     "text": [
      "usage: train_cnn.py [-h] [-train] [-static] [-clean] [-filters FILTERS] [-vectors VECTORS]\n",
      "                    [-user_vectors USER_VECTORS] [-dropout DROPOUT] [-epochs EPOCHS] [-tagField TAGFIELD]\n",
      "                    [-textField TEXTFIELD] [-userField USERFIELD]\n",
      "                    model input\n",
      "train_cnn.py: error: too few arguments\n"
     ]
    }
   ],
   "source": [
    "%%bash\n",
    "MODEL=\"DATA/pkl/sarcasm_cnn\"\n",
    "TRAINING_DATA=\"DATA/txt/bamman_clean.txt\"\n",
    "WORD_EMB=\"DATA/embeddings/filtered_embs.txt\"\n",
    "USER_EMB=\"DATA/embeddings/usr2vec.txt \"\n",
    "python code/train_cnn.py ${MODEL} ${TRAIN_DATA} -train \\\n",
    "                                                -userField 1 -tagField 2 -textField 3 \\\n",
    "                                                -vectors ${WORD_EMB} \\\n",
    "                                                -user_vectors ${USER_EMB} \\\n",
    "                                                -epochs 10"
   ]
  },
  {
   "cell_type": "code",
   "execution_count": null,
   "metadata": {
    "collapsed": true
   },
   "outputs": [],
   "source": []
  }
 ],
 "metadata": {
  "kernelspec": {
   "display_name": "Python 2",
   "language": "python",
   "name": "python2"
  },
  "language_info": {
   "codemirror_mode": {
    "name": "ipython",
    "version": 2
   },
   "file_extension": ".py",
   "mimetype": "text/x-python",
   "name": "python",
   "nbconvert_exporter": "python",
   "pygments_lexer": "ipython2",
   "version": "2.7.11"
  }
 },
 "nbformat": 4,
 "nbformat_minor": 0
}
